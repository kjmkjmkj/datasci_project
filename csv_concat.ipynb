{
 "cells": [
  {
   "cell_type": "code",
   "execution_count": 2,
   "metadata": {},
   "outputs": [],
   "source": [
    "import pandas as pd"
   ]
  },
  {
   "cell_type": "code",
   "execution_count": 3,
   "metadata": {},
   "outputs": [],
   "source": [
    "# csv file\n",
    "benign = pd.read_csv('dataset/Benign Traffic.csv') #정상 데이터\n",
    "dos_udp_flood = pd.read_csv('dataset/DoS UDP Flood.csv')\n",
    "dictionary_brute_force = pd.read_csv('dataset/Dictionary Brute Force.csv')\n",
    "dos_dns_flood = pd.read_csv('dataset/DoS DNS Flood.csv')\n",
    "dos_icmp_flood = pd.read_csv('dataset/DoS ICMP Flood.csv')\n",
    "dos_syn_flood = pd.read_csv('dataset/DoS SYN Flood.csv')\n",
    "mitm_arp_spoofing = pd.read_csv('dataset/MITM ARP Spoofing.csv')\n",
    "recon_host_discovery = pd.read_csv('dataset/Recon Host Discovery.csv')\n",
    "recon_os_scan = pd.read_csv('dataset/Recon OS Scan.csv')\n",
    "recon_ping_sweep = pd.read_csv('dataset/Recon Ping Sweep.csv')\n",
    "recon_vul_scan = pd.read_csv('dataset/Recon Vulnerability Scan.csv')\n",
    "csvs = [benign ,dos_udp_flood, dictionary_brute_force, dos_dns_flood, dos_icmp_flood, dos_syn_flood, mitm_arp_spoofing, recon_host_discovery, recon_os_scan, recon_ping_sweep, recon_vul_scan]"
   ]
  },
  {
   "cell_type": "code",
   "execution_count": 4,
   "metadata": {},
   "outputs": [],
   "source": [
    "#모든 csv 파일 합치기\n",
    "df = pd.concat(csvs)\n",
    "df.to_csv('dataset/total.csv', index=False)"
   ]
  },
  {
   "cell_type": "code",
   "execution_count": null,
   "metadata": {},
   "outputs": [],
   "source": []
  }
 ],
 "metadata": {
  "kernelspec": {
   "display_name": "base",
   "language": "python",
   "name": "python3"
  },
  "language_info": {
   "codemirror_mode": {
    "name": "ipython",
    "version": 3
   },
   "file_extension": ".py",
   "mimetype": "text/x-python",
   "name": "python",
   "nbconvert_exporter": "python",
   "pygments_lexer": "ipython3",
   "version": "3.12.7"
  }
 },
 "nbformat": 4,
 "nbformat_minor": 2
}
