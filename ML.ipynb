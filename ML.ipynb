{
 "cells": [
  {
   "cell_type": "code",
   "execution_count": 1,
   "metadata": {},
   "outputs": [],
   "source": [
    "#import \n",
    "import pandas as pd\n",
    "import numpy as np\n",
    "import matplotlib.pyplot as plt\n",
    "import seaborn as sns\n",
    "#knn\n",
    "from sklearn.neighbors import KNeighborsClassifier\n",
    "#svm\n",
    "from sklearn.svm import SVC\n",
    "#rf\n",
    "from sklearn.ensemble import RandomForestClassifier\n",
    "#xgboost\n",
    "from xgboost import XGBClassifier\n",
    "#split\n",
    "from sklearn.model_selection import train_test_split\n",
    "#metrics\n",
    "from sklearn.metrics import mean_squared_error\n",
    "#cross validation\n",
    "from sklearn.model_selection import cross_val_score\n",
    "from sklearn.metrics import confusion_matrix\n",
    "from sklearn.metrics import classification_report\n",
    "from sklearn.metrics import mean_squared_error\n",
    "#grid search\n",
    "from sklearn.model_selection import GridSearchCV\n",
    "from sklearn.model_selection import RandomizedSearchCV\n",
    "#scaling\n",
    "from sklearn.preprocessing import StandardScaler\n"
   ]
  },
  {
   "cell_type": "code",
   "execution_count": 2,
   "metadata": {},
   "outputs": [],
   "source": [
    "# data\n",
    "df = pd.read_csv('dataset/total_preprocessed_featureselected.csv')\n"
   ]
  },
  {
   "cell_type": "code",
   "execution_count": 3,
   "metadata": {},
   "outputs": [
    {
     "data": {
      "text/plain": [
       "Attack Name\n",
       "Benign Traffic              86525\n",
       "Recon Ping Sweep            47123\n",
       "Recon OS Scan               42173\n",
       "Recon Vulnerability Scan    39489\n",
       "Dictionary Brute Force      18151\n",
       "DoS SYN Flood               15243\n",
       "MITM ARP Spoofing           14768\n",
       "DoS UDP Flood                1848\n",
       "DoS DNS Flood                1702\n",
       "DoS ICMP Flood               1405\n",
       "Recon Host Discovery          424\n",
       "Name: count, dtype: int64"
      ]
     },
     "execution_count": 3,
     "metadata": {},
     "output_type": "execute_result"
    }
   ],
   "source": [
    "df['Attack Name'].value_counts()"
   ]
  },
  {
   "cell_type": "code",
   "execution_count": 4,
   "metadata": {},
   "outputs": [],
   "source": [
    "# x,y split\n",
    "X = df.drop(columns=['Attack Name'])\n",
    "y = df['Attack Name']"
   ]
  },
  {
   "cell_type": "code",
   "execution_count": 5,
   "metadata": {},
   "outputs": [],
   "source": [
    "from imblearn.over_sampling import SMOTE\n",
    "from sklearn.preprocessing import LabelEncoder\n",
    "from sklearn.preprocessing import StandardScaler\n",
    "from sklearn.model_selection import train_test_split\n",
    "\n",
    "# Preprocessing 함수\n",
    "def preprocess(X, y):\n",
    "    # 문자열 레이블을 정수로 변환\n",
    "    label_encoder = LabelEncoder()\n",
    "    y_encoded = label_encoder.fit_transform(y)  # 문자열 -> 정수 변환\n",
    "\n",
    "    # Train/Test Split\n",
    "    X_train, X_test, y_train, y_test = train_test_split(X, y_encoded, test_size=0.2, random_state=42)\n",
    "\n",
    "    # SMOTE로 클래스 균형 조정\n",
    "    smote = SMOTE(random_state=0, sampling_strategy={\n",
    "        label_encoder.transform(['Recon Ping Sweep'])[0]: 60000,\n",
    "        label_encoder.transform(['Recon OS Scan'])[0]: 60000,\n",
    "        label_encoder.transform(['Recon Vulnerability Scan'])[0]: 50000,\n",
    "        label_encoder.transform(['Dictionary Brute Force'])[0]: 30000,\n",
    "        label_encoder.transform(['DoS SYN Flood'])[0]: 25000,\n",
    "        label_encoder.transform(['MITM ARP Spoofing'])[0]: 20000,\n",
    "        label_encoder.transform(['DoS UDP Flood'])[0]: 5000,\n",
    "        label_encoder.transform(['DoS DNS Flood'])[0]: 5000,\n",
    "        label_encoder.transform(['DoS ICMP Flood'])[0]: 4000,\n",
    "        label_encoder.transform(['Recon Host Discovery'])[0]: 2000\n",
    "    })\n",
    "\n",
    "    # Oversampling\n",
    "    X_train_res, y_train_res = smote.fit_resample(X_train, y_train)\n",
    "    print(f\"Resampled Data Shape: {X_train_res.shape}, {y_train_res.shape}\")\n",
    "\n",
    "    # Scaling\n",
    "    scaler = StandardScaler()\n",
    "    X_train_res = scaler.fit_transform(X_train_res)\n",
    "    X_train = scaler.fit_transform(X_train)\n",
    "    X_test = scaler.transform(X_test)\n",
    "\n",
    "    return X_train_res, X_train, X_test, y_train_res, y_train, y_test, label_encoder\n"
   ]
  },
  {
   "cell_type": "code",
   "execution_count": 6,
   "metadata": {},
   "outputs": [
    {
     "name": "stdout",
     "output_type": "stream",
     "text": [
      "Resampled Data Shape: (330213, 48), (330213,)\n"
     ]
    }
   ],
   "source": [
    "X_train_res, X_train, X_test, y_train_res, y_train, y_test,label_encoder=preprocess(X,y)"
   ]
  },
  {
   "cell_type": "code",
   "execution_count": 7,
   "metadata": {},
   "outputs": [],
   "source": [
    "def knn_model(X_train, y_train, X_test, y_test, label_encoder):\n",
    "    param = {\n",
    "        'n_neighbors': 16,\n",
    "        'weights': 'distance',\n",
    "        'metric': 'manhattan'\n",
    "    }\n",
    "    knn = KNeighborsClassifier()\n",
    "    knn.set_params(**param)\n",
    "    knn.fit(X_train, y_train)\n",
    "    y_pred = knn.predict(X_test)\n",
    "    # 라벨 복원\n",
    "    y_test_str = label_encoder.inverse_transform(y_test)  # 실제 라벨 복원\n",
    "    y_pred_str = label_encoder.inverse_transform(y_pred)  # 예측 라벨 복원\n",
    "\n",
    "    # 결과 출력\n",
    "    print(\"Classification Report:\")\n",
    "    print(classification_report(y_test_str, y_pred_str))\n",
    "    print(\"Confusion Matrix:\")\n",
    "    print(confusion_matrix(y_test_str, y_pred_str))\n"
   ]
  },
  {
   "cell_type": "code",
   "execution_count": 8,
   "metadata": {},
   "outputs": [],
   "source": [
    "def rf_model(X_train, y_train, X_test, y_test, label_encoder):\n",
    "\n",
    "    # RandomForest 초기화 및 하이퍼파라미터 탐색 설정\n",
    "    \n",
    "    param = {\n",
    "        'n_estimators': 300,\n",
    "        'max_depth': 120,\n",
    "        'criterion': 'gini'\n",
    "    }\n",
    "    rf = RandomForestClassifier(random_state=42)\n",
    "    rf.set_params(**param)\n",
    "    rf.fit(X_train, y_train)\n",
    "    y_pred = rf.predict(X_test)\n",
    "    y_test_str = label_encoder.inverse_transform(y_test)\n",
    "    y_pred_str = label_encoder.inverse_transform(y_pred)\n",
    "    print(\"Confusion Matrix:\")\n",
    "    print(confusion_matrix(y_test_str, y_pred_str))\n",
    "    print(\"\\nClassification Report:\")\n",
    "    print(classification_report(y_test_str, y_pred_str))\n"
   ]
  },
  {
   "cell_type": "code",
   "execution_count": 9,
   "metadata": {},
   "outputs": [],
   "source": [
    "\n",
    "from lightgbm import LGBMClassifier\n",
    "def lgbm_model(X_train, y_train, X_test, y_test, label_encoder):\n",
    "    # LightGBM 초기화\n",
    "    lgbm = LGBMClassifier(random_state=42)\n",
    "\n",
    "\n",
    "    param_dist = {\n",
    "        'n_estimators': 100,\n",
    "        'max_depth': 20,\n",
    "        'learning_rate': 0.01,\n",
    "        'num_leaves': 20,\n",
    "        'objective': 'multiclass',\n",
    "        'num_class': 10  \n",
    "    }\n",
    "\n",
    "    lgbm.set_params(**param_dist)\n",
    "    lgbm.fit(X_train, y_train)\n",
    "    y_pred = lgbm.predict(X_test)\n",
    "    y_test_str = label_encoder.inverse_transform(y_test)\n",
    "    y_pred_str = label_encoder.inverse_transform(y_pred)\n",
    "    print(\"Confusion Matrix:\")\n",
    "    print(confusion_matrix(y_test_str, y_pred_str))\n",
    "    print(\"\\nClassification Report:\")\n",
    "    print(classification_report(y_test_str, y_pred_str))\n",
    "    \n",
    "    "
   ]
  },
  {
   "cell_type": "code",
   "execution_count": 10,
   "metadata": {},
   "outputs": [
    {
     "name": "stdout",
     "output_type": "stream",
     "text": [
      "Classification Report:\n",
      "                          precision    recall  f1-score   support\n",
      "\n",
      "          Benign Traffic       0.73      0.93      0.82     17312\n",
      "  Dictionary Brute Force       0.69      0.47      0.56      3603\n",
      "           DoS DNS Flood       0.47      0.16      0.24       326\n",
      "          DoS ICMP Flood       0.37      0.10      0.15       294\n",
      "           DoS SYN Flood       0.98      0.91      0.95      3096\n",
      "           DoS UDP Flood       0.18      0.06      0.09       341\n",
      "       MITM ARP Spoofing       0.83      0.57      0.67      2888\n",
      "    Recon Host Discovery       0.20      0.03      0.05        70\n",
      "           Recon OS Scan       0.50      0.50      0.50      8365\n",
      "        Recon Ping Sweep       0.51      0.42      0.46      9513\n",
      "Recon Vulnerability Scan       0.99      0.98      0.99      7963\n",
      "\n",
      "                accuracy                           0.71     53771\n",
      "               macro avg       0.59      0.47      0.50     53771\n",
      "            weighted avg       0.70      0.71      0.70     53771\n",
      "\n",
      "Confusion Matrix:\n",
      "[[16083   493    25    22    20    27   214     6    99   298    25]\n",
      " [ 1745  1690     5     5     1     8    83     1    20    45     0]\n",
      " [  204    21    51     5    11     9     3     0     5    17     0]\n",
      " [  226     8     2    28     4     8     4     0     6     8     0]\n",
      " [  211    13     7     2  2827    17     4     0     4    11     0]\n",
      " [  269    23     1     4     7    19     4     0     2    11     1]\n",
      " [ 1079   111     7     4     2     5  1644     0     6    22     8]\n",
      " [   55     2     0     0     0     1     3     2     0     6     1]\n",
      " [  670    32     2     0     3     3     9     0  4219  3426     1]\n",
      " [ 1397    57     7     6     2     5    15     1  4037  3980     6]\n",
      " [   91    13     1     0     0     1     7     0     3    11  7836]]\n"
     ]
    }
   ],
   "source": [
    "#증강 모델\n",
    "knn_model(X_train , y_train , X_test, y_test, label_encoder)"
   ]
  },
  {
   "cell_type": "code",
   "execution_count": 13,
   "metadata": {},
   "outputs": [
    {
     "name": "stdout",
     "output_type": "stream",
     "text": [
      "Confusion Matrix:\n",
      "[[16167   407    22    25    20    36   208     8   104   299    16]\n",
      " [ 1687  1750     4     6     1     4    86     2    18    42     3]\n",
      " [  204    16    57     7     8     6     8     0     3    17     0]\n",
      " [  211    12     5    37     5     6    10     0     2     5     1]\n",
      " [  196    10     7     4  2831    23     6     0     8    11     0]\n",
      " [  265    18     3     5    11    22     5     1     0    11     0]\n",
      " [  952    85     7     5     3     3  1807     0     5    13     8]\n",
      " [   56     0     1     0     0     2     3     0     0     8     0]\n",
      " [  645    30     2     3     1     4    14     1  3722  3943     0]\n",
      " [ 1368    48    11     4     4     3    13     6  3442  4609     5]\n",
      " [   89     6     2     0     0     1     4     0     4    11  7846]]\n",
      "\n",
      "Classification Report:\n",
      "                          precision    recall  f1-score   support\n",
      "\n",
      "          Benign Traffic       0.74      0.93      0.83     17312\n",
      "  Dictionary Brute Force       0.73      0.49      0.58      3603\n",
      "           DoS DNS Flood       0.47      0.17      0.26       326\n",
      "          DoS ICMP Flood       0.39      0.13      0.19       294\n",
      "           DoS SYN Flood       0.98      0.91      0.95      3096\n",
      "           DoS UDP Flood       0.20      0.06      0.10       341\n",
      "       MITM ARP Spoofing       0.84      0.63      0.72      2888\n",
      "    Recon Host Discovery       0.00      0.00      0.00        70\n",
      "           Recon OS Scan       0.51      0.44      0.47      8365\n",
      "        Recon Ping Sweep       0.51      0.48      0.50      9513\n",
      "Recon Vulnerability Scan       1.00      0.99      0.99      7963\n",
      "\n",
      "                accuracy                           0.72     53771\n",
      "               macro avg       0.58      0.48      0.51     53771\n",
      "            weighted avg       0.71      0.72      0.71     53771\n",
      "\n"
     ]
    }
   ],
   "source": [
    "rf_model(X_train, y_train, X_test, y_test, label_encoder)"
   ]
  },
  {
   "cell_type": "code",
   "execution_count": 10,
   "metadata": {},
   "outputs": [
    {
     "name": "stdout",
     "output_type": "stream",
     "text": [
      "[LightGBM] [Info] Auto-choosing row-wise multi-threading, the overhead of testing was 0.011154 seconds.\n",
      "You can set `force_row_wise=true` to remove the overhead.\n",
      "And if memory is not enough, you can set `force_col_wise=true`.\n",
      "[LightGBM] [Info] Total Bins 6927\n",
      "[LightGBM] [Info] Number of data points in the train set: 215080, number of used features: 48\n",
      "[LightGBM] [Info] Start training from score -1.133821\n",
      "[LightGBM] [Info] Start training from score -2.693557\n",
      "[LightGBM] [Info] Start training from score -5.051829\n",
      "[LightGBM] [Info] Start training from score -5.265750\n",
      "[LightGBM] [Info] Start training from score -2.873928\n",
      "[LightGBM] [Info] Start training from score -4.960889\n",
      "[LightGBM] [Info] Start training from score -2.896154\n",
      "[LightGBM] [Info] Start training from score -6.409468\n",
      "[LightGBM] [Info] Start training from score -1.850313\n",
      "[LightGBM] [Info] Start training from score -1.743740\n",
      "[LightGBM] [Info] Start training from score -1.920197\n",
      "Confusion Matrix:\n",
      "[[17281     6     0     0     2     0     6     0     2     1    14]\n",
      " [ 2427  1173     0     0     0     0     1     0     0     0     2]\n",
      " [  323     2     1     0     0     0     0     0     0     0     0]\n",
      " [  293     0     0     0     0     0     0     0     0     1     0]\n",
      " [  283     0     0     0  2811     0     1     0     0     0     1]\n",
      " [  339     0     0     1     0     1     0     0     0     0     0]\n",
      " [ 1654     1     0     0     1     0  1215     0     0     0    17]\n",
      " [   70     0     0     0     0     0     0     0     0     0     0]\n",
      " [  843     0     0     0     0     0     0     0  2547  4974     1]\n",
      " [ 1793     0     0     0     0     0     0     0  1999  5718     3]\n",
      " [  260     4     0     0     0     0     7     0     0     1  7691]]\n",
      "\n",
      "Classification Report:\n"
     ]
    },
    {
     "name": "stderr",
     "output_type": "stream",
     "text": [
      "/home/kjmin731/anaconda3/lib/python3.12/site-packages/sklearn/metrics/_classification.py:1531: UndefinedMetricWarning: Precision is ill-defined and being set to 0.0 in labels with no predicted samples. Use `zero_division` parameter to control this behavior.\n",
      "  _warn_prf(average, modifier, f\"{metric.capitalize()} is\", len(result))\n",
      "/home/kjmin731/anaconda3/lib/python3.12/site-packages/sklearn/metrics/_classification.py:1531: UndefinedMetricWarning: Precision is ill-defined and being set to 0.0 in labels with no predicted samples. Use `zero_division` parameter to control this behavior.\n",
      "  _warn_prf(average, modifier, f\"{metric.capitalize()} is\", len(result))\n"
     ]
    },
    {
     "name": "stdout",
     "output_type": "stream",
     "text": [
      "                          precision    recall  f1-score   support\n",
      "\n",
      "          Benign Traffic       0.68      1.00      0.81     17312\n",
      "  Dictionary Brute Force       0.99      0.33      0.49      3603\n",
      "           DoS DNS Flood       1.00      0.00      0.01       326\n",
      "          DoS ICMP Flood       0.00      0.00      0.00       294\n",
      "           DoS SYN Flood       1.00      0.91      0.95      3096\n",
      "           DoS UDP Flood       1.00      0.00      0.01       341\n",
      "       MITM ARP Spoofing       0.99      0.42      0.59      2888\n",
      "    Recon Host Discovery       0.00      0.00      0.00        70\n",
      "           Recon OS Scan       0.56      0.30      0.39      8365\n",
      "        Recon Ping Sweep       0.53      0.60      0.57      9513\n",
      "Recon Vulnerability Scan       1.00      0.97      0.98      7963\n",
      "\n",
      "                accuracy                           0.71     53771\n",
      "               macro avg       0.70      0.41      0.44     53771\n",
      "            weighted avg       0.74      0.71      0.69     53771\n",
      "\n"
     ]
    },
    {
     "name": "stderr",
     "output_type": "stream",
     "text": [
      "/home/kjmin731/anaconda3/lib/python3.12/site-packages/sklearn/metrics/_classification.py:1531: UndefinedMetricWarning: Precision is ill-defined and being set to 0.0 in labels with no predicted samples. Use `zero_division` parameter to control this behavior.\n",
      "  _warn_prf(average, modifier, f\"{metric.capitalize()} is\", len(result))\n"
     ]
    }
   ],
   "source": [
    "lgbm_model(X_train , y_train, X_test, y_test, label_encoder)"
   ]
  },
  {
   "cell_type": "code",
   "execution_count": 11,
   "metadata": {},
   "outputs": [],
   "source": [
    "#공격 유형별로 분류하는 것은 어려움이 있을 것으로 판단, benign traffic과 아닌 것으로 나누기\n",
    "df['Attack Name'] = df['Attack Name'].apply(lambda x: 1 if x == 'Benign Traffic' else 0)"
   ]
  },
  {
   "cell_type": "code",
   "execution_count": 12,
   "metadata": {},
   "outputs": [
    {
     "data": {
      "text/plain": [
       "Attack Name\n",
       "0    182326\n",
       "1     86525\n",
       "Name: count, dtype: int64"
      ]
     },
     "execution_count": 12,
     "metadata": {},
     "output_type": "execute_result"
    }
   ],
   "source": [
    "df['Attack Name'].value_counts()"
   ]
  },
  {
   "cell_type": "code",
   "execution_count": 13,
   "metadata": {},
   "outputs": [],
   "source": [
    "from sklearn.model_selection import train_test_split\n",
    "X_01 = df.drop(columns=['Attack Name'])\n",
    "y_01 = df['Attack Name']"
   ]
  },
  {
   "cell_type": "code",
   "execution_count": 14,
   "metadata": {},
   "outputs": [],
   "source": [
    "#train test split\n",
    "X_train_01, X_test_01, y_train_01, y_test_01 = train_test_split(X_01, y_01, test_size=0.2, random_state=42)"
   ]
  },
  {
   "cell_type": "code",
   "execution_count": 15,
   "metadata": {},
   "outputs": [],
   "source": [
    "#scaling\n",
    "scaler = StandardScaler()\n",
    "X_train_01 = scaler.fit_transform(X_train_01)\n",
    "X_test_01 = scaler.transform(X_test_01)\n"
   ]
  },
  {
   "cell_type": "code",
   "execution_count": null,
   "metadata": {},
   "outputs": [
    {
     "name": "stdout",
     "output_type": "stream",
     "text": [
      "Classification Report:\n",
      "                        precision    recall  f1-score   support\n",
      "\n",
      "        Benign Traffic       0.92      0.87      0.89     36459\n",
      "Dictionary Brute Force       0.75      0.83      0.79     17312\n",
      "\n",
      "              accuracy                           0.86     53771\n",
      "             macro avg       0.83      0.85      0.84     53771\n",
      "          weighted avg       0.86      0.86      0.86     53771\n",
      "\n",
      "Confusion Matrix:\n",
      "[[31747  4712]\n",
      " [ 2946 14366]]\n"
     ]
    }
   ],
   "source": [
    "#knn\n",
    "knn_model(X_train_01, y_train_01, X_test_01, y_test_01, label_encoder)"
   ]
  },
  {
   "cell_type": "code",
   "execution_count": null,
   "metadata": {},
   "outputs": [
    {
     "name": "stdout",
     "output_type": "stream",
     "text": [
      "Confusion Matrix:\n",
      "[[31705  4754]\n",
      " [ 2168 15144]]\n",
      "\n",
      "Classification Report:\n",
      "                        precision    recall  f1-score   support\n",
      "\n",
      "        Benign Traffic       0.94      0.87      0.90     36459\n",
      "Dictionary Brute Force       0.76      0.87      0.81     17312\n",
      "\n",
      "              accuracy                           0.87     53771\n",
      "             macro avg       0.85      0.87      0.86     53771\n",
      "          weighted avg       0.88      0.87      0.87     53771\n",
      "\n"
     ]
    }
   ],
   "source": [
    "#rf\n",
    "rf_model(X_train_01, y_train_01, X_test_01, y_test_01,label_encoder )"
   ]
  },
  {
   "cell_type": "code",
   "execution_count": 16,
   "metadata": {},
   "outputs": [
    {
     "name": "stdout",
     "output_type": "stream",
     "text": [
      "[LightGBM] [Info] Auto-choosing row-wise multi-threading, the overhead of testing was 0.009396 seconds.\n",
      "You can set `force_row_wise=true` to remove the overhead.\n",
      "And if memory is not enough, you can set `force_col_wise=true`.\n",
      "[LightGBM] [Info] Total Bins 6927\n",
      "[LightGBM] [Info] Number of data points in the train set: 215080, number of used features: 48\n",
      "[LightGBM] [Info] Start training from score -0.388315\n",
      "[LightGBM] [Info] Start training from score -1.133821\n",
      "[LightGBM] [Info] Start training from score -34.538776\n",
      "[LightGBM] [Info] Start training from score -34.538776\n",
      "[LightGBM] [Info] Start training from score -34.538776\n",
      "[LightGBM] [Info] Start training from score -34.538776\n",
      "[LightGBM] [Info] Start training from score -34.538776\n",
      "[LightGBM] [Info] Start training from score -34.538776\n",
      "[LightGBM] [Info] Start training from score -34.538776\n",
      "[LightGBM] [Info] Start training from score -34.538776\n",
      "Confusion Matrix:\n",
      "[[28969  7490]\n",
      " [  737 16575]]\n",
      "\n",
      "Classification Report:\n",
      "                        precision    recall  f1-score   support\n",
      "\n",
      "        Benign Traffic       0.98      0.79      0.88     36459\n",
      "Dictionary Brute Force       0.69      0.96      0.80     17312\n",
      "\n",
      "              accuracy                           0.85     53771\n",
      "             macro avg       0.83      0.88      0.84     53771\n",
      "          weighted avg       0.88      0.85      0.85     53771\n",
      "\n"
     ]
    }
   ],
   "source": [
    "#lgbm\n",
    "lgbm_model(X_train_01, y_train_01, X_test_01, y_test_01, label_encoder)"
   ]
  },
  {
   "cell_type": "code",
   "execution_count": null,
   "metadata": {},
   "outputs": [],
   "source": []
  }
 ],
 "metadata": {
  "kernelspec": {
   "display_name": "base",
   "language": "python",
   "name": "python3"
  },
  "language_info": {
   "codemirror_mode": {
    "name": "ipython",
    "version": 3
   },
   "file_extension": ".py",
   "mimetype": "text/x-python",
   "name": "python",
   "nbconvert_exporter": "python",
   "pygments_lexer": "ipython3",
   "version": "3.12.7"
  }
 },
 "nbformat": 4,
 "nbformat_minor": 2
}
