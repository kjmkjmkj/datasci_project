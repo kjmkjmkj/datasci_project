{
 "cells": [
  {
   "cell_type": "code",
   "execution_count": 2,
   "metadata": {},
   "outputs": [],
   "source": [
    "#eda import\n",
    "import pandas as pd \n",
    "import numpy as np\n",
    "import matplotlib.pyplot as plt\n",
    "import seaborn as sns\n",
    "import os\n",
    "import sys\n",
    "import sklearn"
   ]
  },
  {
   "cell_type": "code",
   "execution_count": 3,
   "metadata": {},
   "outputs": [],
   "source": [
    "# csv file\n",
    "benign = pd.read_csv('dataset/Benign Traffic.csv')\n",
    "dos_udp_flood = pd.read_csv('dataset/DoS UDP Flood.csv')\n",
    "dictionary_brute_force = pd.read_csv('dataset/Dictionary Brute Force.csv')\n",
    "dos_dns_flood = pd.read_csv('dataset/DoS DNS Flood.csv')\n",
    "dos_icmp_flood = pd.read_csv('dataset/DoS ICMP Flood.csv')\n",
    "dos_syn_flood = pd.read_csv('dataset/DoS SYN Flood.csv')\n",
    "mitm_arp_spoofing = pd.read_csv('dataset/MITM ARP Spoofing.csv')\n",
    "recon_host_discovery = pd.read_csv('dataset/Recon Host Discovery.csv')\n",
    "recon_os_scan = pd.read_csv('dataset/Recon OS Scan.csv')\n",
    "recon_ping_sweep = pd.read_csv('dataset/Recon Ping Sweep.csv')\n",
    "recon_port_scan = pd.read_csv('dataset/Recon Port Scan.csv')\n",
    "recon_vul_scan = pd.read_csv('dataset/Recon Vulnerability Scan.csv')"
   ]
  },
  {
   "cell_type": "code",
   "execution_count": 7,
   "metadata": {},
   "outputs": [
    {
     "name": "stdout",
     "output_type": "stream",
     "text": [
      "(86525, 85)\n",
      "(1848, 85)\n",
      "(18151, 85)\n",
      "(1702, 85)\n",
      "(1405, 85)\n",
      "(15243, 85)\n",
      "(14768, 85)\n",
      "(424, 85)\n",
      "(42173, 85)\n",
      "(47123, 85)\n",
      "(453293, 85)\n",
      "(39489, 85)\n"
     ]
    }
   ],
   "source": [
    "csvs = [benign, dos_udp_flood, dictionary_brute_force, dos_dns_flood, dos_icmp_flood, dos_syn_flood, mitm_arp_spoofing, recon_host_discovery, recon_os_scan, recon_ping_sweep, recon_port_scan, recon_vul_scan]\n",
    "# 각각 csv shape 확인\n",
    "for csv in csvs:\n",
    "    print(csv.shape)"
   ]
  },
  {
   "cell_type": "code",
   "execution_count": null,
   "metadata": {},
   "outputs": [],
   "source": []
  }
 ],
 "metadata": {
  "kernelspec": {
   "display_name": "base",
   "language": "python",
   "name": "python3"
  },
  "language_info": {
   "codemirror_mode": {
    "name": "ipython",
    "version": 3
   },
   "file_extension": ".py",
   "mimetype": "text/x-python",
   "name": "python",
   "nbconvert_exporter": "python",
   "pygments_lexer": "ipython3",
   "version": "3.12.7"
  }
 },
 "nbformat": 4,
 "nbformat_minor": 2
}
